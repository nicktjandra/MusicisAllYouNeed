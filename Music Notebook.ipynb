{
 "cells": [
  {
   "cell_type": "markdown",
   "id": "40f78eab",
   "metadata": {
    "papermill": {
     "duration": 0.005307,
     "end_time": "2023-11-01T22:16:33.473291",
     "exception": false,
     "start_time": "2023-11-01T22:16:33.467984",
     "status": "completed"
    },
    "tags": []
   },
   "source": [
    "# Importing libraries and locating data files"
   ]
  },
  {
   "cell_type": "code",
   "execution_count": 1,
   "id": "2df98ea8",
   "metadata": {
    "_cell_guid": "b1076dfc-b9ad-4769-8c92-a6c4dae69d19",
    "_uuid": "8f2839f25d086af736a60e9eeb907d3b93b6e0e5",
    "execution": {
     "iopub.execute_input": "2023-11-01T22:16:33.484585Z",
     "iopub.status.busy": "2023-11-01T22:16:33.484177Z",
     "iopub.status.idle": "2023-11-01T22:16:33.805263Z",
     "shell.execute_reply": "2023-11-01T22:16:33.802756Z"
    },
    "papermill": {
     "duration": 0.330024,
     "end_time": "2023-11-01T22:16:33.808216",
     "exception": false,
     "start_time": "2023-11-01T22:16:33.478192",
     "status": "completed"
    },
    "tags": []
   },
   "outputs": [],
   "source": [
    "import numpy as np \n",
    "import pandas as pd\n",
    "from sklearn.preprocessing import LabelEncoder\n",
    "from sklearn.linear_model import LogisticRegression\n",
    "from sklearn.ensemble import RandomForestClassifier\n",
    "from sklearn.model_selection import train_test_split, cross_val_score\n",
    "from sklearn.metrics import f1_score"
   ]
  },
  {
   "cell_type": "markdown",
   "id": "76a04bee",
   "metadata": {
    "papermill": {
     "duration": 0.004436,
     "end_time": "2023-11-01T22:16:33.817760",
     "exception": false,
     "start_time": "2023-11-01T22:16:33.813324",
     "status": "completed"
    },
    "tags": []
   },
   "source": [
    "# Reading the datasets"
   ]
  },
  {
   "cell_type": "code",
   "execution_count": 2,
   "id": "046ac761",
   "metadata": {
    "scrolled": true
   },
   "outputs": [
    {
     "name": "stdout",
     "output_type": "stream",
     "text": [
      "meta_data_1.csv       sample_submission.csv train.csv\r\n",
      "meta_data_2.csv       test.csv\r\n"
     ]
    }
   ],
   "source": [
    "! ls music-vibes-datathon-fall23/"
   ]
  },
  {
   "cell_type": "code",
   "execution_count": 3,
   "id": "d4bf331d",
   "metadata": {
    "execution": {
     "iopub.execute_input": "2023-11-01T22:16:33.828954Z",
     "iopub.status.busy": "2023-11-01T22:16:33.828503Z",
     "iopub.status.idle": "2023-11-01T22:16:36.784960Z",
     "shell.execute_reply": "2023-11-01T22:16:36.783666Z"
    },
    "papermill": {
     "duration": 2.965326,
     "end_time": "2023-11-01T22:16:36.787753",
     "exception": false,
     "start_time": "2023-11-01T22:16:33.822427",
     "status": "completed"
    },
    "tags": []
   },
   "outputs": [],
   "source": [
    "train = pd.read_csv(\"music-vibes-datathon-fall23/train.csv\")\n",
    "test = pd.read_csv(\"music-vibes-datathon-fall23/test.csv\")\n",
    "\n",
    "meta_1 = pd.read_csv(\"music-vibes-datathon-fall23/meta_data_1.csv\")\n",
    "meta_2 = pd.read_csv(\"music-vibes-datathon-fall23/meta_data_2.csv\")\n",
    "\n",
    "ss = pd.read_csv(\"music-vibes-datathon-fall23/sample_submission.csv\")"
   ]
  },
  {
   "cell_type": "code",
   "execution_count": 4,
   "id": "3d736c68",
   "metadata": {
    "execution": {
     "iopub.execute_input": "2023-11-01T22:16:36.799681Z",
     "iopub.status.busy": "2023-11-01T22:16:36.799023Z",
     "iopub.status.idle": "2023-11-01T22:16:36.805376Z",
     "shell.execute_reply": "2023-11-01T22:16:36.804694Z"
    },
    "papermill": {
     "duration": 0.014535,
     "end_time": "2023-11-01T22:16:36.807204",
     "exception": false,
     "start_time": "2023-11-01T22:16:36.792669",
     "status": "completed"
    },
    "tags": []
   },
   "outputs": [
    {
     "data": {
      "text/plain": [
       "((4961, 6), (3308, 5), (3308, 2))"
      ]
     },
     "execution_count": 4,
     "metadata": {},
     "output_type": "execute_result"
    }
   ],
   "source": [
    "train.shape, test.shape, ss.shape\n",
    "# NOTE: Here the number of rows for the testing and sample submission files are same."
   ]
  },
  {
   "cell_type": "markdown",
   "id": "655092be",
   "metadata": {},
   "source": [
    "# EDA"
   ]
  },
  {
   "cell_type": "code",
   "execution_count": 5,
   "id": "0558a0b3",
   "metadata": {
    "scrolled": false
   },
   "outputs": [],
   "source": [
    "# train.head()"
   ]
  },
  {
   "cell_type": "code",
   "execution_count": 6,
   "id": "29f4b6d1",
   "metadata": {},
   "outputs": [],
   "source": [
    "# test.head()"
   ]
  },
  {
   "cell_type": "code",
   "execution_count": 7,
   "id": "6d32eca3",
   "metadata": {},
   "outputs": [],
   "source": [
    "# train"
   ]
  },
  {
   "cell_type": "code",
   "execution_count": 8,
   "id": "64924754",
   "metadata": {},
   "outputs": [],
   "source": [
    "# meta_1.head()"
   ]
  },
  {
   "cell_type": "code",
   "execution_count": 9,
   "id": "17ea6a0e",
   "metadata": {},
   "outputs": [
    {
     "data": {
      "text/html": [
       "<div>\n",
       "<style scoped>\n",
       "    .dataframe tbody tr th:only-of-type {\n",
       "        vertical-align: middle;\n",
       "    }\n",
       "\n",
       "    .dataframe tbody tr th {\n",
       "        vertical-align: top;\n",
       "    }\n",
       "\n",
       "    .dataframe thead th {\n",
       "        text-align: right;\n",
       "    }\n",
       "</style>\n",
       "<table border=\"1\" class=\"dataframe\">\n",
       "  <thead>\n",
       "    <tr style=\"text-align: right;\">\n",
       "      <th></th>\n",
       "      <th>id</th>\n",
       "      <th>a1</th>\n",
       "      <th>a10</th>\n",
       "      <th>a11</th>\n",
       "      <th>a12</th>\n",
       "      <th>a13</th>\n",
       "      <th>a14</th>\n",
       "      <th>a15</th>\n",
       "      <th>a16</th>\n",
       "      <th>a17</th>\n",
       "      <th>...</th>\n",
       "      <th>a46</th>\n",
       "      <th>a47</th>\n",
       "      <th>a48</th>\n",
       "      <th>a49</th>\n",
       "      <th>a5</th>\n",
       "      <th>a50</th>\n",
       "      <th>a6</th>\n",
       "      <th>a7</th>\n",
       "      <th>a8</th>\n",
       "      <th>a9</th>\n",
       "    </tr>\n",
       "  </thead>\n",
       "  <tbody>\n",
       "    <tr>\n",
       "      <th>0</th>\n",
       "      <td>VKpqYUqyes6tjxUE</td>\n",
       "      <td>1296810.0</td>\n",
       "      <td>4.740000</td>\n",
       "      <td>0.12650</td>\n",
       "      <td>62.154</td>\n",
       "      <td>1.081</td>\n",
       "      <td>2082.827044</td>\n",
       "      <td>25.412184</td>\n",
       "      <td>0.4108</td>\n",
       "      <td>1296810.0</td>\n",
       "      <td>...</td>\n",
       "      <td>7.626219e-03</td>\n",
       "      <td>-134.17572</td>\n",
       "      <td>143.085</td>\n",
       "      <td>0.2960</td>\n",
       "      <td>-190.608</td>\n",
       "      <td>0.2388</td>\n",
       "      <td>15.352</td>\n",
       "      <td>-52.668597</td>\n",
       "      <td>0.02265</td>\n",
       "      <td>2.97900</td>\n",
       "    </tr>\n",
       "    <tr>\n",
       "      <th>1</th>\n",
       "      <td>Bd8ufO7wOFegZXVz</td>\n",
       "      <td>694362.0</td>\n",
       "      <td>3.770000</td>\n",
       "      <td>0.34950</td>\n",
       "      <td>72.997</td>\n",
       "      <td>32.317</td>\n",
       "      <td>40.525956</td>\n",
       "      <td>938313.739000</td>\n",
       "      <td>2.1440</td>\n",
       "      <td>694362.0</td>\n",
       "      <td>...</td>\n",
       "      <td>5.164596e-03</td>\n",
       "      <td>-623.23140</td>\n",
       "      <td>212.685</td>\n",
       "      <td>1.1880</td>\n",
       "      <td>-281.624</td>\n",
       "      <td>0.1880</td>\n",
       "      <td>11.000</td>\n",
       "      <td>137.251403</td>\n",
       "      <td>0.02900</td>\n",
       "      <td>0.00789</td>\n",
       "    </tr>\n",
       "    <tr>\n",
       "      <th>2</th>\n",
       "      <td>RbsK7ydOf0CWomVN</td>\n",
       "      <td>895390.0</td>\n",
       "      <td>0.000000</td>\n",
       "      <td>0.25400</td>\n",
       "      <td>64.838</td>\n",
       "      <td>20.868</td>\n",
       "      <td>147.962896</td>\n",
       "      <td>103823.000000</td>\n",
       "      <td>1.2752</td>\n",
       "      <td>895390.0</td>\n",
       "      <td>...</td>\n",
       "      <td>0.000000e+00</td>\n",
       "      <td>-571.70800</td>\n",
       "      <td>161.328</td>\n",
       "      <td>0.7680</td>\n",
       "      <td>-214.064</td>\n",
       "      <td>0.2352</td>\n",
       "      <td>90.819</td>\n",
       "      <td>35.451403</td>\n",
       "      <td>0.03260</td>\n",
       "      <td>0.89700</td>\n",
       "    </tr>\n",
       "    <tr>\n",
       "      <th>3</th>\n",
       "      <td>mYx3izxEyO3axauu</td>\n",
       "      <td>752010.0</td>\n",
       "      <td>0.000006</td>\n",
       "      <td>0.09395</td>\n",
       "      <td>60.003</td>\n",
       "      <td>NaN</td>\n",
       "      <td>61.465600</td>\n",
       "      <td>103823.000000</td>\n",
       "      <td>0.0960</td>\n",
       "      <td>752010.0</td>\n",
       "      <td>...</td>\n",
       "      <td>9.332867e-09</td>\n",
       "      <td>-368.48000</td>\n",
       "      <td>NaN</td>\n",
       "      <td>0.1138</td>\n",
       "      <td>NaN</td>\n",
       "      <td>0.3924</td>\n",
       "      <td>NaN</td>\n",
       "      <td>35.451403</td>\n",
       "      <td>0.01645</td>\n",
       "      <td>0.41100</td>\n",
       "    </tr>\n",
       "    <tr>\n",
       "      <th>4</th>\n",
       "      <td>ECLOwMMomoDb6IM6</td>\n",
       "      <td>817342.0</td>\n",
       "      <td>0.000595</td>\n",
       "      <td>0.37350</td>\n",
       "      <td>83.968</td>\n",
       "      <td>19.398</td>\n",
       "      <td>313.431616</td>\n",
       "      <td>145531.576000</td>\n",
       "      <td>2.4020</td>\n",
       "      <td>817342.0</td>\n",
       "      <td>...</td>\n",
       "      <td>7.086033e-07</td>\n",
       "      <td>-931.23040</td>\n",
       "      <td>169.170</td>\n",
       "      <td>1.2740</td>\n",
       "      <td>-223.452</td>\n",
       "      <td>0.2940</td>\n",
       "      <td>62.125</td>\n",
       "      <td>46.651403</td>\n",
       "      <td>0.01825</td>\n",
       "      <td>0.10170</td>\n",
       "    </tr>\n",
       "  </tbody>\n",
       "</table>\n",
       "<p>5 rows × 51 columns</p>\n",
       "</div>"
      ],
      "text/plain": [
       "                 id         a1       a10      a11     a12     a13  \\\n",
       "0  VKpqYUqyes6tjxUE  1296810.0  4.740000  0.12650  62.154   1.081   \n",
       "1  Bd8ufO7wOFegZXVz   694362.0  3.770000  0.34950  72.997  32.317   \n",
       "2  RbsK7ydOf0CWomVN   895390.0  0.000000  0.25400  64.838  20.868   \n",
       "3  mYx3izxEyO3axauu   752010.0  0.000006  0.09395  60.003     NaN   \n",
       "4  ECLOwMMomoDb6IM6   817342.0  0.000595  0.37350  83.968  19.398   \n",
       "\n",
       "           a14            a15     a16        a17  ...           a46  \\\n",
       "0  2082.827044      25.412184  0.4108  1296810.0  ...  7.626219e-03   \n",
       "1    40.525956  938313.739000  2.1440   694362.0  ...  5.164596e-03   \n",
       "2   147.962896  103823.000000  1.2752   895390.0  ...  0.000000e+00   \n",
       "3    61.465600  103823.000000  0.0960   752010.0  ...  9.332867e-09   \n",
       "4   313.431616  145531.576000  2.4020   817342.0  ...  7.086033e-07   \n",
       "\n",
       "         a47      a48     a49       a5     a50      a6          a7       a8  \\\n",
       "0 -134.17572  143.085  0.2960 -190.608  0.2388  15.352  -52.668597  0.02265   \n",
       "1 -623.23140  212.685  1.1880 -281.624  0.1880  11.000  137.251403  0.02900   \n",
       "2 -571.70800  161.328  0.7680 -214.064  0.2352  90.819   35.451403  0.03260   \n",
       "3 -368.48000      NaN  0.1138      NaN  0.3924     NaN   35.451403  0.01645   \n",
       "4 -931.23040  169.170  1.2740 -223.452  0.2940  62.125   46.651403  0.01825   \n",
       "\n",
       "        a9  \n",
       "0  2.97900  \n",
       "1  0.00789  \n",
       "2  0.89700  \n",
       "3  0.41100  \n",
       "4  0.10170  \n",
       "\n",
       "[5 rows x 51 columns]"
      ]
     },
     "execution_count": 9,
     "metadata": {},
     "output_type": "execute_result"
    }
   ],
   "source": [
    "meta_2.head()\n",
    "\n",
    "# I wonder what this is?"
   ]
  },
  {
   "cell_type": "code",
   "execution_count": 10,
   "id": "a08cd35e",
   "metadata": {},
   "outputs": [
    {
     "data": {
      "text/plain": [
       "target\n",
       "Metal        517\n",
       "Rock         453\n",
       "Indie        432\n",
       "Blues        399\n",
       "R&B          375\n",
       "Pop          338\n",
       "Soul         331\n",
       "Country      305\n",
       "Lofi         305\n",
       "Disco        248\n",
       "Jazz         244\n",
       "EDM          237\n",
       "Ambient      230\n",
       "Funk         219\n",
       "HipHop       205\n",
       "Classical    123\n",
       "Name: count, dtype: int64"
      ]
     },
     "execution_count": 10,
     "metadata": {},
     "output_type": "execute_result"
    }
   ],
   "source": [
    "train['target'].value_counts()"
   ]
  },
  {
   "cell_type": "markdown",
   "id": "aa5c2614",
   "metadata": {
    "papermill": {
     "duration": 0.004734,
     "end_time": "2023-11-01T22:16:36.817227",
     "exception": false,
     "start_time": "2023-11-01T22:16:36.812493",
     "status": "completed"
    },
    "tags": []
   },
   "source": [
    "## Cleaning"
   ]
  },
  {
   "cell_type": "code",
   "execution_count": 11,
   "id": "c543e38d",
   "metadata": {
    "execution": {
     "iopub.execute_input": "2023-11-01T22:16:36.830313Z",
     "iopub.status.busy": "2023-11-01T22:16:36.828933Z",
     "iopub.status.idle": "2023-11-01T22:16:36.885060Z",
     "shell.execute_reply": "2023-11-01T22:16:36.883671Z"
    },
    "papermill": {
     "duration": 0.064932,
     "end_time": "2023-11-01T22:16:36.887344",
     "exception": false,
     "start_time": "2023-11-01T22:16:36.822412",
     "status": "completed"
    },
    "tags": []
   },
   "outputs": [],
   "source": [
    "result_train_df = train.loc[:, [\"song_id\", \"target\"]].merge(meta_1, left_on=\"song_id\", right_on=\"id\", how=\"left\").drop([\"id\"], axis=1)\n",
    "result_train_df = result_train_df.merge(meta_2, left_on=\"song_id\", right_on=\"id\", how=\"left\").drop([\"id\"], axis=1)\n",
    "result_train_df = result_train_df.fillna(method=\"ffill\")\n",
    "result_train_df = result_train_df.fillna(0)\n",
    "\n",
    "# do the same cleaning for the test data, only difference that it does not have the target column, which is something we are predicting\n",
    "result_test_df = test.loc[:, [\"song_id\"]].merge(meta_1, left_on=\"song_id\", right_on=\"id\", how='left').drop([\"id\"], axis=1)\n",
    "result_test_df = result_test_df.merge(meta_2, left_on=\"song_id\", right_on=\"id\", how='left').drop([\"id\"], axis=1)\n",
    "result_test_df = result_test_df.fillna(method='ffill')\n",
    "result_test_df = result_test_df.fillna(0)\n"
   ]
  },
  {
   "cell_type": "code",
   "execution_count": 12,
   "id": "32c50511",
   "metadata": {},
   "outputs": [
    {
     "data": {
      "text/html": [
       "<div>\n",
       "<style scoped>\n",
       "    .dataframe tbody tr th:only-of-type {\n",
       "        vertical-align: middle;\n",
       "    }\n",
       "\n",
       "    .dataframe tbody tr th {\n",
       "        vertical-align: top;\n",
       "    }\n",
       "\n",
       "    .dataframe thead th {\n",
       "        text-align: right;\n",
       "    }\n",
       "</style>\n",
       "<table border=\"1\" class=\"dataframe\">\n",
       "  <thead>\n",
       "    <tr style=\"text-align: right;\">\n",
       "      <th></th>\n",
       "      <th>song_id</th>\n",
       "      <th>adaptibility</th>\n",
       "      <th>danceability</th>\n",
       "      <th>duration</th>\n",
       "      <th>energy</th>\n",
       "      <th>explicit</th>\n",
       "      <th>happening</th>\n",
       "      <th>instrumentalness</th>\n",
       "      <th>loudness</th>\n",
       "      <th>mode</th>\n",
       "      <th>...</th>\n",
       "      <th>a46</th>\n",
       "      <th>a47</th>\n",
       "      <th>a48</th>\n",
       "      <th>a49</th>\n",
       "      <th>a5</th>\n",
       "      <th>a50</th>\n",
       "      <th>a6</th>\n",
       "      <th>a7</th>\n",
       "      <th>a8</th>\n",
       "      <th>a9</th>\n",
       "    </tr>\n",
       "  </thead>\n",
       "  <tbody>\n",
       "    <tr>\n",
       "      <th>0</th>\n",
       "      <td>7c61FpilqRU/3Ley</td>\n",
       "      <td>8</td>\n",
       "      <td>61.3</td>\n",
       "      <td>361817.0</td>\n",
       "      <td>56.40</td>\n",
       "      <td>False</td>\n",
       "      <td>0.0585</td>\n",
       "      <td>0.000002</td>\n",
       "      <td>-9.170</td>\n",
       "      <td>6</td>\n",
       "      <td>...</td>\n",
       "      <td>2.104914e-08</td>\n",
       "      <td>-517.1880</td>\n",
       "      <td>183.7245</td>\n",
       "      <td>1.076</td>\n",
       "      <td>-243.048</td>\n",
       "      <td>0.1336</td>\n",
       "      <td>46.397</td>\n",
       "      <td>54.251403</td>\n",
       "      <td>0.01255</td>\n",
       "      <td>0.402</td>\n",
       "    </tr>\n",
       "    <tr>\n",
       "      <th>1</th>\n",
       "      <td>EmqUjbC3coby/LZy</td>\n",
       "      <td>6</td>\n",
       "      <td>74.5</td>\n",
       "      <td>384379.0</td>\n",
       "      <td>93.20</td>\n",
       "      <td>False</td>\n",
       "      <td>0.1360</td>\n",
       "      <td>0.056100</td>\n",
       "      <td>-4.984</td>\n",
       "      <td>6</td>\n",
       "      <td>...</td>\n",
       "      <td>4.382812e-04</td>\n",
       "      <td>-464.5088</td>\n",
       "      <td>223.0920</td>\n",
       "      <td>1.856</td>\n",
       "      <td>-294.288</td>\n",
       "      <td>0.3412</td>\n",
       "      <td>93.625</td>\n",
       "      <td>127.851403</td>\n",
       "      <td>0.02535</td>\n",
       "      <td>0.333</td>\n",
       "    </tr>\n",
       "    <tr>\n",
       "      <th>2</th>\n",
       "      <td>lvF5H8aYwo+TlFJe</td>\n",
       "      <td>2</td>\n",
       "      <td>69.7</td>\n",
       "      <td>279451.0</td>\n",
       "      <td>4.45</td>\n",
       "      <td>False</td>\n",
       "      <td>0.1030</td>\n",
       "      <td>0.927000</td>\n",
       "      <td>-40.320</td>\n",
       "      <td>6</td>\n",
       "      <td>...</td>\n",
       "      <td>7.989451e-03</td>\n",
       "      <td>-179.4240</td>\n",
       "      <td>208.7910</td>\n",
       "      <td>0.326</td>\n",
       "      <td>-278.148</td>\n",
       "      <td>0.2524</td>\n",
       "      <td>8.873</td>\n",
       "      <td>-49.648597</td>\n",
       "      <td>0.01995</td>\n",
       "      <td>2.775</td>\n",
       "    </tr>\n",
       "    <tr>\n",
       "      <th>3</th>\n",
       "      <td>O+oGRFmYSUbebxCK</td>\n",
       "      <td>6</td>\n",
       "      <td>61.7</td>\n",
       "      <td>337497.0</td>\n",
       "      <td>50.00</td>\n",
       "      <td>True</td>\n",
       "      <td>0.1070</td>\n",
       "      <td>0.005210</td>\n",
       "      <td>-6.494</td>\n",
       "      <td>6</td>\n",
       "      <td>...</td>\n",
       "      <td>5.787217e-05</td>\n",
       "      <td>-324.7000</td>\n",
       "      <td>184.7790</td>\n",
       "      <td>1.032</td>\n",
       "      <td>-244.736</td>\n",
       "      <td>0.2920</td>\n",
       "      <td>85.113</td>\n",
       "      <td>41.451403</td>\n",
       "      <td>0.01700</td>\n",
       "      <td>1.158</td>\n",
       "    </tr>\n",
       "    <tr>\n",
       "      <th>4</th>\n",
       "      <td>rUR7HzUw1p41lUUn</td>\n",
       "      <td>5</td>\n",
       "      <td>67.1</td>\n",
       "      <td>383205.0</td>\n",
       "      <td>31.40</td>\n",
       "      <td>True</td>\n",
       "      <td>0.0825</td>\n",
       "      <td>0.000000</td>\n",
       "      <td>-11.182</td>\n",
       "      <td>5</td>\n",
       "      <td>...</td>\n",
       "      <td>0.000000e+00</td>\n",
       "      <td>-351.1148</td>\n",
       "      <td>201.0525</td>\n",
       "      <td>0.592</td>\n",
       "      <td>-267.216</td>\n",
       "      <td>-0.6460</td>\n",
       "      <td>11.711</td>\n",
       "      <td>4.251403</td>\n",
       "      <td>0.12200</td>\n",
       "      <td>0.330</td>\n",
       "    </tr>\n",
       "  </tbody>\n",
       "</table>\n",
       "<p>5 rows × 68 columns</p>\n",
       "</div>"
      ],
      "text/plain": [
       "            song_id  adaptibility  danceability  duration  energy  explicit  \\\n",
       "0  7c61FpilqRU/3Ley             8          61.3  361817.0   56.40     False   \n",
       "1  EmqUjbC3coby/LZy             6          74.5  384379.0   93.20     False   \n",
       "2  lvF5H8aYwo+TlFJe             2          69.7  279451.0    4.45     False   \n",
       "3  O+oGRFmYSUbebxCK             6          61.7  337497.0   50.00      True   \n",
       "4  rUR7HzUw1p41lUUn             5          67.1  383205.0   31.40      True   \n",
       "\n",
       "   happening  instrumentalness  loudness  mode  ...           a46       a47  \\\n",
       "0     0.0585          0.000002    -9.170     6  ...  2.104914e-08 -517.1880   \n",
       "1     0.1360          0.056100    -4.984     6  ...  4.382812e-04 -464.5088   \n",
       "2     0.1030          0.927000   -40.320     6  ...  7.989451e-03 -179.4240   \n",
       "3     0.1070          0.005210    -6.494     6  ...  5.787217e-05 -324.7000   \n",
       "4     0.0825          0.000000   -11.182     5  ...  0.000000e+00 -351.1148   \n",
       "\n",
       "        a48    a49       a5     a50      a6          a7       a8     a9  \n",
       "0  183.7245  1.076 -243.048  0.1336  46.397   54.251403  0.01255  0.402  \n",
       "1  223.0920  1.856 -294.288  0.3412  93.625  127.851403  0.02535  0.333  \n",
       "2  208.7910  0.326 -278.148  0.2524   8.873  -49.648597  0.01995  2.775  \n",
       "3  184.7790  1.032 -244.736  0.2920  85.113   41.451403  0.01700  1.158  \n",
       "4  201.0525  0.592 -267.216 -0.6460  11.711    4.251403  0.12200  0.330  \n",
       "\n",
       "[5 rows x 68 columns]"
      ]
     },
     "execution_count": 12,
     "metadata": {},
     "output_type": "execute_result"
    }
   ],
   "source": [
    "result_test_df.head()"
   ]
  },
  {
   "cell_type": "code",
   "execution_count": 13,
   "id": "36da91b5",
   "metadata": {},
   "outputs": [],
   "source": [
    "# Clean column names\n",
    "result_train_df.columns = result_train_df.columns.str.title()\n",
    "result_train_df.columns = result_train_df.columns.str.replace('_', ' ')\n",
    "result_test_df.columns = result_test_df.columns.str.title()\n",
    "result_test_df.columns = result_test_df.columns.str.replace('_', ' ')"
   ]
  },
  {
   "cell_type": "code",
   "execution_count": 14,
   "id": "b81d143f",
   "metadata": {
    "scrolled": true
   },
   "outputs": [],
   "source": [
    "# Clean the release date\n",
    "result_train_df['Release Date'] = result_train_df['Release Date'].str[:4].astype(int)\n",
    "result_test_df['Release Date'] = result_test_df['Release Date'].str[:4].astype(int)"
   ]
  },
  {
   "cell_type": "code",
   "execution_count": 15,
   "id": "002dbf65",
   "metadata": {},
   "outputs": [],
   "source": [
    "import numpy as np\n",
    "import pandas as pd\n",
    "\n",
    "# Assume df is your DataFrame\n",
    "# Replace positive infinity with a large number\n",
    "result_train_df.replace(np.inf, 1e9, inplace=True)\n",
    "\n",
    "# Replace negative infinity with a small number\n",
    "result_train_df.replace(-np.inf, -1e9, inplace=True)\n",
    "result_test_df.replace(np.inf, 1e9, inplace=True)\n",
    "\n",
    "# Replace negative infinity with a small number\n",
    "result_test_df.replace(-np.inf, -1e9, inplace=True)\n"
   ]
  },
  {
   "cell_type": "code",
   "execution_count": 16,
   "id": "27a0361f",
   "metadata": {
    "scrolled": true
   },
   "outputs": [
    {
     "name": "stdout",
     "output_type": "stream",
     "text": [
      "<class 'pandas.core.frame.DataFrame'>\n",
      "RangeIndex: 4961 entries, 0 to 4960\n",
      "Data columns (total 69 columns):\n",
      " #   Column            Non-Null Count  Dtype  \n",
      "---  ------            --------------  -----  \n",
      " 0   Song Id           4961 non-null   object \n",
      " 1   Target            4961 non-null   object \n",
      " 2   Adaptibility      4961 non-null   int64  \n",
      " 3   Danceability      4961 non-null   float64\n",
      " 4   Duration          4961 non-null   float64\n",
      " 5   Energy            4961 non-null   float64\n",
      " 6   Explicit          4961 non-null   bool   \n",
      " 7   Happening         4961 non-null   float64\n",
      " 8   Instrumentalness  4961 non-null   float64\n",
      " 9   Loudness          4961 non-null   float64\n",
      " 10  Mode              4961 non-null   int64  \n",
      " 11  Naturality        4961 non-null   float64\n",
      " 12  Positiveness      4961 non-null   float64\n",
      " 13  Release Date      4961 non-null   int64  \n",
      " 14  Reputation        4961 non-null   int64  \n",
      " 15  Speechiness       4961 non-null   float64\n",
      " 16  Tempo             4961 non-null   float64\n",
      " 17  Time Signature    4961 non-null   int64  \n",
      " 18  Total Tracks      4961 non-null   int64  \n",
      " 19  A1                4961 non-null   float64\n",
      " 20  A10               4961 non-null   float64\n",
      " 21  A11               4961 non-null   float64\n",
      " 22  A12               4961 non-null   float64\n",
      " 23  A13               4961 non-null   float64\n",
      " 24  A14               4961 non-null   float64\n",
      " 25  A15               4961 non-null   float64\n",
      " 26  A16               4961 non-null   float64\n",
      " 27  A17               4961 non-null   float64\n",
      " 28  A18               4961 non-null   float64\n",
      " 29  A19               4961 non-null   float64\n",
      " 30  A2                4961 non-null   float64\n",
      " 31  A20               4961 non-null   float64\n",
      " 32  A21               4961 non-null   float64\n",
      " 33  A22               4961 non-null   float64\n",
      " 34  A23               4961 non-null   float64\n",
      " 35  A24               4961 non-null   float64\n",
      " 36  A25               4961 non-null   float64\n",
      " 37  A26               4961 non-null   float64\n",
      " 38  A27               4961 non-null   float64\n",
      " 39  A28               4961 non-null   float64\n",
      " 40  A29               4961 non-null   float64\n",
      " 41  A3                4961 non-null   float64\n",
      " 42  A30               4961 non-null   float64\n",
      " 43  A31               4961 non-null   float64\n",
      " 44  A32               4961 non-null   float64\n",
      " 45  A33               4961 non-null   float64\n",
      " 46  A34               4961 non-null   float64\n",
      " 47  A35               4961 non-null   float64\n",
      " 48  A36               4961 non-null   float64\n",
      " 49  A37               4961 non-null   float64\n",
      " 50  A38               4961 non-null   float64\n",
      " 51  A39               4961 non-null   float64\n",
      " 52  A4                4961 non-null   float64\n",
      " 53  A40               4961 non-null   float64\n",
      " 54  A41               4961 non-null   float64\n",
      " 55  A42               4961 non-null   float64\n",
      " 56  A43               4961 non-null   float64\n",
      " 57  A44               4961 non-null   float64\n",
      " 58  A45               4961 non-null   float64\n",
      " 59  A46               4961 non-null   float64\n",
      " 60  A47               4961 non-null   float64\n",
      " 61  A48               4961 non-null   float64\n",
      " 62  A49               4961 non-null   float64\n",
      " 63  A5                4961 non-null   float64\n",
      " 64  A50               4961 non-null   float64\n",
      " 65  A6                4961 non-null   float64\n",
      " 66  A7                4961 non-null   float64\n",
      " 67  A8                4961 non-null   float64\n",
      " 68  A9                4961 non-null   float64\n",
      "dtypes: bool(1), float64(60), int64(6), object(2)\n",
      "memory usage: 2.6+ MB\n"
     ]
    }
   ],
   "source": [
    "result_train_df.info()"
   ]
  },
  {
   "cell_type": "markdown",
   "id": "9a7b3415",
   "metadata": {
    "papermill": {
     "duration": 0.004835,
     "end_time": "2023-11-01T22:16:37.004000",
     "exception": false,
     "start_time": "2023-11-01T22:16:36.999165",
     "status": "completed"
    },
    "tags": []
   },
   "source": [
    "Converting target values to numerical with label encoder. Alternatively try one-hot encoding it later"
   ]
  },
  {
   "cell_type": "code",
   "execution_count": 17,
   "id": "de9d6a11",
   "metadata": {
    "execution": {
     "iopub.execute_input": "2023-11-01T22:16:37.016087Z",
     "iopub.status.busy": "2023-11-01T22:16:37.015695Z",
     "iopub.status.idle": "2023-11-01T22:16:38.327419Z",
     "shell.execute_reply": "2023-11-01T22:16:38.325824Z"
    },
    "papermill": {
     "duration": 1.32073,
     "end_time": "2023-11-01T22:16:38.329799",
     "exception": false,
     "start_time": "2023-11-01T22:16:37.009069",
     "status": "completed"
    },
    "tags": []
   },
   "outputs": [],
   "source": [
    "label_encoder = LabelEncoder()\n",
    "result_train_df['Target'] = label_encoder.fit_transform(result_train_df['Target'])"
   ]
  },
  {
   "cell_type": "code",
   "execution_count": 18,
   "id": "6b51cfb6",
   "metadata": {},
   "outputs": [],
   "source": [
    "result_test_df = result_test_df.drop('Song Id', axis=1)"
   ]
  },
  {
   "cell_type": "code",
   "execution_count": 19,
   "id": "b93dfc29",
   "metadata": {
    "execution": {
     "iopub.execute_input": "2023-11-01T22:16:36.948560Z",
     "iopub.status.busy": "2023-11-01T22:16:36.948168Z",
     "iopub.status.idle": "2023-11-01T22:16:36.981837Z",
     "shell.execute_reply": "2023-11-01T22:16:36.980593Z"
    },
    "papermill": {
     "duration": 0.042181,
     "end_time": "2023-11-01T22:16:36.983840",
     "exception": false,
     "start_time": "2023-11-01T22:16:36.941659",
     "status": "completed"
    },
    "scrolled": false,
    "tags": []
   },
   "outputs": [
    {
     "data": {
      "text/html": [
       "<div>\n",
       "<style scoped>\n",
       "    .dataframe tbody tr th:only-of-type {\n",
       "        vertical-align: middle;\n",
       "    }\n",
       "\n",
       "    .dataframe tbody tr th {\n",
       "        vertical-align: top;\n",
       "    }\n",
       "\n",
       "    .dataframe thead th {\n",
       "        text-align: right;\n",
       "    }\n",
       "</style>\n",
       "<table border=\"1\" class=\"dataframe\">\n",
       "  <thead>\n",
       "    <tr style=\"text-align: right;\">\n",
       "      <th></th>\n",
       "      <th>Song Id</th>\n",
       "      <th>Target</th>\n",
       "      <th>Adaptibility</th>\n",
       "      <th>Danceability</th>\n",
       "      <th>Duration</th>\n",
       "      <th>Energy</th>\n",
       "      <th>Explicit</th>\n",
       "      <th>Happening</th>\n",
       "      <th>Instrumentalness</th>\n",
       "      <th>Loudness</th>\n",
       "      <th>...</th>\n",
       "      <th>A46</th>\n",
       "      <th>A47</th>\n",
       "      <th>A48</th>\n",
       "      <th>A49</th>\n",
       "      <th>A5</th>\n",
       "      <th>A50</th>\n",
       "      <th>A6</th>\n",
       "      <th>A7</th>\n",
       "      <th>A8</th>\n",
       "      <th>A9</th>\n",
       "    </tr>\n",
       "  </thead>\n",
       "  <tbody>\n",
       "    <tr>\n",
       "      <th>0</th>\n",
       "      <td>AA5aMeYP1klLv1BA</td>\n",
       "      <td>1</td>\n",
       "      <td>5</td>\n",
       "      <td>58.8</td>\n",
       "      <td>372005.0</td>\n",
       "      <td>48.5</td>\n",
       "      <td>False</td>\n",
       "      <td>0.0609</td>\n",
       "      <td>0.012200</td>\n",
       "      <td>-15.290</td>\n",
       "      <td>...</td>\n",
       "      <td>1.283386e-04</td>\n",
       "      <td>-741.5650</td>\n",
       "      <td>176.2173</td>\n",
       "      <td>0.796</td>\n",
       "      <td>-233.608</td>\n",
       "      <td>0.0000</td>\n",
       "      <td>97.472</td>\n",
       "      <td>38.451403</td>\n",
       "      <td>0.00000</td>\n",
       "      <td>2.57400</td>\n",
       "    </tr>\n",
       "    <tr>\n",
       "      <th>1</th>\n",
       "      <td>Wr3MLRGLm08yjrGN</td>\n",
       "      <td>13</td>\n",
       "      <td>1</td>\n",
       "      <td>62.6</td>\n",
       "      <td>368183.0</td>\n",
       "      <td>30.9</td>\n",
       "      <td>True</td>\n",
       "      <td>0.1170</td>\n",
       "      <td>0.000013</td>\n",
       "      <td>-15.794</td>\n",
       "      <td>...</td>\n",
       "      <td>1.110734e-07</td>\n",
       "      <td>-488.0346</td>\n",
       "      <td>187.4490</td>\n",
       "      <td>0.738</td>\n",
       "      <td>-248.924</td>\n",
       "      <td>0.2948</td>\n",
       "      <td>14.376</td>\n",
       "      <td>3.251403</td>\n",
       "      <td>0.02165</td>\n",
       "      <td>2.55000</td>\n",
       "    </tr>\n",
       "    <tr>\n",
       "      <th>2</th>\n",
       "      <td>XtEbP8zIOloM6r5I</td>\n",
       "      <td>4</td>\n",
       "      <td>5</td>\n",
       "      <td>77.6</td>\n",
       "      <td>732725.0</td>\n",
       "      <td>66.9</td>\n",
       "      <td>False</td>\n",
       "      <td>0.0863</td>\n",
       "      <td>0.000018</td>\n",
       "      <td>-12.622</td>\n",
       "      <td>...</td>\n",
       "      <td>1.646928e-07</td>\n",
       "      <td>-844.4118</td>\n",
       "      <td>232.5411</td>\n",
       "      <td>1.830</td>\n",
       "      <td>-306.740</td>\n",
       "      <td>0.0804</td>\n",
       "      <td>88.576</td>\n",
       "      <td>75.251403</td>\n",
       "      <td>0.03310</td>\n",
       "      <td>0.07080</td>\n",
       "    </tr>\n",
       "    <tr>\n",
       "      <th>3</th>\n",
       "      <td>NW5kIVzyoiV0zJmJ</td>\n",
       "      <td>14</td>\n",
       "      <td>5</td>\n",
       "      <td>37.1</td>\n",
       "      <td>355317.0</td>\n",
       "      <td>91.6</td>\n",
       "      <td>True</td>\n",
       "      <td>0.1340</td>\n",
       "      <td>0.000025</td>\n",
       "      <td>-4.108</td>\n",
       "      <td>...</td>\n",
       "      <td>1.537279e-07</td>\n",
       "      <td>-376.2928</td>\n",
       "      <td>110.8980</td>\n",
       "      <td>0.638</td>\n",
       "      <td>-147.124</td>\n",
       "      <td>-0.0640</td>\n",
       "      <td>64.811</td>\n",
       "      <td>124.651403</td>\n",
       "      <td>0.07500</td>\n",
       "      <td>0.00417</td>\n",
       "    </tr>\n",
       "    <tr>\n",
       "      <th>4</th>\n",
       "      <td>1uhYBNywheqCdzrg</td>\n",
       "      <td>9</td>\n",
       "      <td>7</td>\n",
       "      <td>44.2</td>\n",
       "      <td>497383.0</td>\n",
       "      <td>33.4</td>\n",
       "      <td>False</td>\n",
       "      <td>0.2530</td>\n",
       "      <td>0.000694</td>\n",
       "      <td>-15.530</td>\n",
       "      <td>...</td>\n",
       "      <td>4.065017e-06</td>\n",
       "      <td>-518.7020</td>\n",
       "      <td>131.8410</td>\n",
       "      <td>0.692</td>\n",
       "      <td>-175.416</td>\n",
       "      <td>0.8732</td>\n",
       "      <td>50.888</td>\n",
       "      <td>8.251403</td>\n",
       "      <td>0.01735</td>\n",
       "      <td>1.70100</td>\n",
       "    </tr>\n",
       "  </tbody>\n",
       "</table>\n",
       "<p>5 rows × 69 columns</p>\n",
       "</div>"
      ],
      "text/plain": [
       "            Song Id  Target  Adaptibility  Danceability  Duration  Energy  \\\n",
       "0  AA5aMeYP1klLv1BA       1             5          58.8  372005.0    48.5   \n",
       "1  Wr3MLRGLm08yjrGN      13             1          62.6  368183.0    30.9   \n",
       "2  XtEbP8zIOloM6r5I       4             5          77.6  732725.0    66.9   \n",
       "3  NW5kIVzyoiV0zJmJ      14             5          37.1  355317.0    91.6   \n",
       "4  1uhYBNywheqCdzrg       9             7          44.2  497383.0    33.4   \n",
       "\n",
       "   Explicit  Happening  Instrumentalness  Loudness  ...           A46  \\\n",
       "0     False     0.0609          0.012200   -15.290  ...  1.283386e-04   \n",
       "1      True     0.1170          0.000013   -15.794  ...  1.110734e-07   \n",
       "2     False     0.0863          0.000018   -12.622  ...  1.646928e-07   \n",
       "3      True     0.1340          0.000025    -4.108  ...  1.537279e-07   \n",
       "4     False     0.2530          0.000694   -15.530  ...  4.065017e-06   \n",
       "\n",
       "        A47       A48    A49       A5     A50      A6          A7       A8  \\\n",
       "0 -741.5650  176.2173  0.796 -233.608  0.0000  97.472   38.451403  0.00000   \n",
       "1 -488.0346  187.4490  0.738 -248.924  0.2948  14.376    3.251403  0.02165   \n",
       "2 -844.4118  232.5411  1.830 -306.740  0.0804  88.576   75.251403  0.03310   \n",
       "3 -376.2928  110.8980  0.638 -147.124 -0.0640  64.811  124.651403  0.07500   \n",
       "4 -518.7020  131.8410  0.692 -175.416  0.8732  50.888    8.251403  0.01735   \n",
       "\n",
       "        A9  \n",
       "0  2.57400  \n",
       "1  2.55000  \n",
       "2  0.07080  \n",
       "3  0.00417  \n",
       "4  1.70100  \n",
       "\n",
       "[5 rows x 69 columns]"
      ]
     },
     "execution_count": 19,
     "metadata": {},
     "output_type": "execute_result"
    }
   ],
   "source": [
    "result_train_df.head()"
   ]
  },
  {
   "cell_type": "code",
   "execution_count": 20,
   "id": "f7e935d7",
   "metadata": {
    "scrolled": false
   },
   "outputs": [
    {
     "data": {
      "text/html": [
       "<div>\n",
       "<style scoped>\n",
       "    .dataframe tbody tr th:only-of-type {\n",
       "        vertical-align: middle;\n",
       "    }\n",
       "\n",
       "    .dataframe tbody tr th {\n",
       "        vertical-align: top;\n",
       "    }\n",
       "\n",
       "    .dataframe thead th {\n",
       "        text-align: right;\n",
       "    }\n",
       "</style>\n",
       "<table border=\"1\" class=\"dataframe\">\n",
       "  <thead>\n",
       "    <tr style=\"text-align: right;\">\n",
       "      <th></th>\n",
       "      <th>Adaptibility</th>\n",
       "      <th>Danceability</th>\n",
       "      <th>Duration</th>\n",
       "      <th>Energy</th>\n",
       "      <th>Explicit</th>\n",
       "      <th>Happening</th>\n",
       "      <th>Instrumentalness</th>\n",
       "      <th>Loudness</th>\n",
       "      <th>Mode</th>\n",
       "      <th>Naturality</th>\n",
       "      <th>...</th>\n",
       "      <th>A46</th>\n",
       "      <th>A47</th>\n",
       "      <th>A48</th>\n",
       "      <th>A49</th>\n",
       "      <th>A5</th>\n",
       "      <th>A50</th>\n",
       "      <th>A6</th>\n",
       "      <th>A7</th>\n",
       "      <th>A8</th>\n",
       "      <th>A9</th>\n",
       "    </tr>\n",
       "  </thead>\n",
       "  <tbody>\n",
       "    <tr>\n",
       "      <th>0</th>\n",
       "      <td>8</td>\n",
       "      <td>61.3</td>\n",
       "      <td>361817.0</td>\n",
       "      <td>56.40</td>\n",
       "      <td>False</td>\n",
       "      <td>0.0585</td>\n",
       "      <td>0.000002</td>\n",
       "      <td>-9.170</td>\n",
       "      <td>6</td>\n",
       "      <td>0.134</td>\n",
       "      <td>...</td>\n",
       "      <td>2.104914e-08</td>\n",
       "      <td>-517.1880</td>\n",
       "      <td>183.7245</td>\n",
       "      <td>1.076</td>\n",
       "      <td>-243.048</td>\n",
       "      <td>0.1336</td>\n",
       "      <td>46.397</td>\n",
       "      <td>54.251403</td>\n",
       "      <td>0.01255</td>\n",
       "      <td>0.402</td>\n",
       "    </tr>\n",
       "    <tr>\n",
       "      <th>1</th>\n",
       "      <td>6</td>\n",
       "      <td>74.5</td>\n",
       "      <td>384379.0</td>\n",
       "      <td>93.20</td>\n",
       "      <td>False</td>\n",
       "      <td>0.1360</td>\n",
       "      <td>0.056100</td>\n",
       "      <td>-4.984</td>\n",
       "      <td>6</td>\n",
       "      <td>0.111</td>\n",
       "      <td>...</td>\n",
       "      <td>4.382812e-04</td>\n",
       "      <td>-464.5088</td>\n",
       "      <td>223.0920</td>\n",
       "      <td>1.856</td>\n",
       "      <td>-294.288</td>\n",
       "      <td>0.3412</td>\n",
       "      <td>93.625</td>\n",
       "      <td>127.851403</td>\n",
       "      <td>0.02535</td>\n",
       "      <td>0.333</td>\n",
       "    </tr>\n",
       "    <tr>\n",
       "      <th>2</th>\n",
       "      <td>2</td>\n",
       "      <td>69.7</td>\n",
       "      <td>279451.0</td>\n",
       "      <td>4.45</td>\n",
       "      <td>False</td>\n",
       "      <td>0.1030</td>\n",
       "      <td>0.927000</td>\n",
       "      <td>-40.320</td>\n",
       "      <td>6</td>\n",
       "      <td>0.925</td>\n",
       "      <td>...</td>\n",
       "      <td>7.989451e-03</td>\n",
       "      <td>-179.4240</td>\n",
       "      <td>208.7910</td>\n",
       "      <td>0.326</td>\n",
       "      <td>-278.148</td>\n",
       "      <td>0.2524</td>\n",
       "      <td>8.873</td>\n",
       "      <td>-49.648597</td>\n",
       "      <td>0.01995</td>\n",
       "      <td>2.775</td>\n",
       "    </tr>\n",
       "    <tr>\n",
       "      <th>3</th>\n",
       "      <td>6</td>\n",
       "      <td>61.7</td>\n",
       "      <td>337497.0</td>\n",
       "      <td>50.00</td>\n",
       "      <td>True</td>\n",
       "      <td>0.1070</td>\n",
       "      <td>0.005210</td>\n",
       "      <td>-6.494</td>\n",
       "      <td>6</td>\n",
       "      <td>0.386</td>\n",
       "      <td>...</td>\n",
       "      <td>5.787217e-05</td>\n",
       "      <td>-324.7000</td>\n",
       "      <td>184.7790</td>\n",
       "      <td>1.032</td>\n",
       "      <td>-244.736</td>\n",
       "      <td>0.2920</td>\n",
       "      <td>85.113</td>\n",
       "      <td>41.451403</td>\n",
       "      <td>0.01700</td>\n",
       "      <td>1.158</td>\n",
       "    </tr>\n",
       "    <tr>\n",
       "      <th>4</th>\n",
       "      <td>5</td>\n",
       "      <td>67.1</td>\n",
       "      <td>383205.0</td>\n",
       "      <td>31.40</td>\n",
       "      <td>True</td>\n",
       "      <td>0.0825</td>\n",
       "      <td>0.000000</td>\n",
       "      <td>-11.182</td>\n",
       "      <td>5</td>\n",
       "      <td>0.110</td>\n",
       "      <td>...</td>\n",
       "      <td>0.000000e+00</td>\n",
       "      <td>-351.1148</td>\n",
       "      <td>201.0525</td>\n",
       "      <td>0.592</td>\n",
       "      <td>-267.216</td>\n",
       "      <td>-0.6460</td>\n",
       "      <td>11.711</td>\n",
       "      <td>4.251403</td>\n",
       "      <td>0.12200</td>\n",
       "      <td>0.330</td>\n",
       "    </tr>\n",
       "  </tbody>\n",
       "</table>\n",
       "<p>5 rows × 67 columns</p>\n",
       "</div>"
      ],
      "text/plain": [
       "   Adaptibility  Danceability  Duration  Energy  Explicit  Happening  \\\n",
       "0             8          61.3  361817.0   56.40     False     0.0585   \n",
       "1             6          74.5  384379.0   93.20     False     0.1360   \n",
       "2             2          69.7  279451.0    4.45     False     0.1030   \n",
       "3             6          61.7  337497.0   50.00      True     0.1070   \n",
       "4             5          67.1  383205.0   31.40      True     0.0825   \n",
       "\n",
       "   Instrumentalness  Loudness  Mode  Naturality  ...           A46       A47  \\\n",
       "0          0.000002    -9.170     6       0.134  ...  2.104914e-08 -517.1880   \n",
       "1          0.056100    -4.984     6       0.111  ...  4.382812e-04 -464.5088   \n",
       "2          0.927000   -40.320     6       0.925  ...  7.989451e-03 -179.4240   \n",
       "3          0.005210    -6.494     6       0.386  ...  5.787217e-05 -324.7000   \n",
       "4          0.000000   -11.182     5       0.110  ...  0.000000e+00 -351.1148   \n",
       "\n",
       "        A48    A49       A5     A50      A6          A7       A8     A9  \n",
       "0  183.7245  1.076 -243.048  0.1336  46.397   54.251403  0.01255  0.402  \n",
       "1  223.0920  1.856 -294.288  0.3412  93.625  127.851403  0.02535  0.333  \n",
       "2  208.7910  0.326 -278.148  0.2524   8.873  -49.648597  0.01995  2.775  \n",
       "3  184.7790  1.032 -244.736  0.2920  85.113   41.451403  0.01700  1.158  \n",
       "4  201.0525  0.592 -267.216 -0.6460  11.711    4.251403  0.12200  0.330  \n",
       "\n",
       "[5 rows x 67 columns]"
      ]
     },
     "execution_count": 20,
     "metadata": {},
     "output_type": "execute_result"
    }
   ],
   "source": [
    "result_test_df.head()"
   ]
  },
  {
   "cell_type": "markdown",
   "id": "cfc5e4f0",
   "metadata": {
    "execution": {
     "iopub.execute_input": "2023-11-01T20:33:53.630099Z",
     "iopub.status.busy": "2023-11-01T20:33:53.629705Z",
     "iopub.status.idle": "2023-11-01T20:33:53.639942Z",
     "shell.execute_reply": "2023-11-01T20:33:53.637427Z",
     "shell.execute_reply.started": "2023-11-01T20:33:53.630066Z"
    },
    "papermill": {
     "duration": 0.005244,
     "end_time": "2023-11-01T22:16:38.340670",
     "exception": false,
     "start_time": "2023-11-01T22:16:38.335426",
     "status": "completed"
    },
    "tags": []
   },
   "source": [
    "# Building basic Model"
   ]
  },
  {
   "cell_type": "code",
   "execution_count": 48,
   "id": "d1d3b7cb",
   "metadata": {},
   "outputs": [],
   "source": [
    "y = result_train_df['Target']\n",
    "X = result_train_df.drop(['Song Id', 'Target', 'A46', 'A47', 'A48', 'A49', 'A5', 'A50', 'A6', 'A7', 'A8', 'A9'], axis=1)"
   ]
  },
  {
   "cell_type": "code",
   "execution_count": 49,
   "id": "fd992b39",
   "metadata": {},
   "outputs": [
    {
     "name": "stdout",
     "output_type": "stream",
     "text": [
      "<class 'pandas.core.series.Series'>\n",
      "RangeIndex: 4961 entries, 0 to 4960\n",
      "Series name: Target\n",
      "Non-Null Count  Dtype\n",
      "--------------  -----\n",
      "4961 non-null   int64\n",
      "dtypes: int64(1)\n",
      "memory usage: 38.9 KB\n"
     ]
    }
   ],
   "source": [
    "y.info()"
   ]
  },
  {
   "cell_type": "code",
   "execution_count": 50,
   "id": "6d4ef26e",
   "metadata": {},
   "outputs": [],
   "source": [
    "# X.astype(int)"
   ]
  },
  {
   "cell_type": "code",
   "execution_count": 51,
   "id": "3beae4a6",
   "metadata": {
    "execution": {
     "iopub.execute_input": "2023-11-01T22:16:38.693025Z",
     "iopub.status.busy": "2023-11-01T22:16:38.692638Z",
     "iopub.status.idle": "2023-11-01T22:16:38.701471Z",
     "shell.execute_reply": "2023-11-01T22:16:38.700738Z"
    },
    "papermill": {
     "duration": 0.018294,
     "end_time": "2023-11-01T22:16:38.703833",
     "exception": false,
     "start_time": "2023-11-01T22:16:38.685539",
     "status": "completed"
    },
    "tags": []
   },
   "outputs": [],
   "source": [
    "X_train, X_test, y_train, y_test = train_test_split(X, y, test_size=0.25, random_state=42)"
   ]
  },
  {
   "cell_type": "markdown",
   "id": "7c84379e",
   "metadata": {},
   "source": [
    "## Basic Log Reg"
   ]
  },
  {
   "cell_type": "code",
   "execution_count": 52,
   "id": "447a7a31",
   "metadata": {
    "execution": {
     "iopub.execute_input": "2023-11-01T22:16:38.717314Z",
     "iopub.status.busy": "2023-11-01T22:16:38.716017Z",
     "iopub.status.idle": "2023-11-01T22:16:39.138736Z",
     "shell.execute_reply": "2023-11-01T22:16:39.137991Z"
    },
    "papermill": {
     "duration": 0.4314,
     "end_time": "2023-11-01T22:16:39.140870",
     "exception": false,
     "start_time": "2023-11-01T22:16:38.709470",
     "status": "completed"
    },
    "scrolled": true,
    "tags": []
   },
   "outputs": [],
   "source": [
    "logistic_reg = LogisticRegression()"
   ]
  },
  {
   "cell_type": "code",
   "execution_count": 53,
   "id": "46916459",
   "metadata": {},
   "outputs": [
    {
     "name": "stderr",
     "output_type": "stream",
     "text": [
      "/Users/nicholastjandra/anaconda3/envs/learn-env/lib/python3.9/site-packages/sklearn/linear_model/_logistic.py:460: ConvergenceWarning: lbfgs failed to converge (status=1):\n",
      "STOP: TOTAL NO. of ITERATIONS REACHED LIMIT.\n",
      "\n",
      "Increase the number of iterations (max_iter) or scale the data as shown in:\n",
      "    https://scikit-learn.org/stable/modules/preprocessing.html\n",
      "Please also refer to the documentation for alternative solver options:\n",
      "    https://scikit-learn.org/stable/modules/linear_model.html#logistic-regression\n",
      "  n_iter_i = _check_optimize_result(\n"
     ]
    },
    {
     "data": {
      "text/html": [
       "<style>#sk-container-id-5 {color: black;}#sk-container-id-5 pre{padding: 0;}#sk-container-id-5 div.sk-toggleable {background-color: white;}#sk-container-id-5 label.sk-toggleable__label {cursor: pointer;display: block;width: 100%;margin-bottom: 0;padding: 0.3em;box-sizing: border-box;text-align: center;}#sk-container-id-5 label.sk-toggleable__label-arrow:before {content: \"▸\";float: left;margin-right: 0.25em;color: #696969;}#sk-container-id-5 label.sk-toggleable__label-arrow:hover:before {color: black;}#sk-container-id-5 div.sk-estimator:hover label.sk-toggleable__label-arrow:before {color: black;}#sk-container-id-5 div.sk-toggleable__content {max-height: 0;max-width: 0;overflow: hidden;text-align: left;background-color: #f0f8ff;}#sk-container-id-5 div.sk-toggleable__content pre {margin: 0.2em;color: black;border-radius: 0.25em;background-color: #f0f8ff;}#sk-container-id-5 input.sk-toggleable__control:checked~div.sk-toggleable__content {max-height: 200px;max-width: 100%;overflow: auto;}#sk-container-id-5 input.sk-toggleable__control:checked~label.sk-toggleable__label-arrow:before {content: \"▾\";}#sk-container-id-5 div.sk-estimator input.sk-toggleable__control:checked~label.sk-toggleable__label {background-color: #d4ebff;}#sk-container-id-5 div.sk-label input.sk-toggleable__control:checked~label.sk-toggleable__label {background-color: #d4ebff;}#sk-container-id-5 input.sk-hidden--visually {border: 0;clip: rect(1px 1px 1px 1px);clip: rect(1px, 1px, 1px, 1px);height: 1px;margin: -1px;overflow: hidden;padding: 0;position: absolute;width: 1px;}#sk-container-id-5 div.sk-estimator {font-family: monospace;background-color: #f0f8ff;border: 1px dotted black;border-radius: 0.25em;box-sizing: border-box;margin-bottom: 0.5em;}#sk-container-id-5 div.sk-estimator:hover {background-color: #d4ebff;}#sk-container-id-5 div.sk-parallel-item::after {content: \"\";width: 100%;border-bottom: 1px solid gray;flex-grow: 1;}#sk-container-id-5 div.sk-label:hover label.sk-toggleable__label {background-color: #d4ebff;}#sk-container-id-5 div.sk-serial::before {content: \"\";position: absolute;border-left: 1px solid gray;box-sizing: border-box;top: 0;bottom: 0;left: 50%;z-index: 0;}#sk-container-id-5 div.sk-serial {display: flex;flex-direction: column;align-items: center;background-color: white;padding-right: 0.2em;padding-left: 0.2em;position: relative;}#sk-container-id-5 div.sk-item {position: relative;z-index: 1;}#sk-container-id-5 div.sk-parallel {display: flex;align-items: stretch;justify-content: center;background-color: white;position: relative;}#sk-container-id-5 div.sk-item::before, #sk-container-id-5 div.sk-parallel-item::before {content: \"\";position: absolute;border-left: 1px solid gray;box-sizing: border-box;top: 0;bottom: 0;left: 50%;z-index: -1;}#sk-container-id-5 div.sk-parallel-item {display: flex;flex-direction: column;z-index: 1;position: relative;background-color: white;}#sk-container-id-5 div.sk-parallel-item:first-child::after {align-self: flex-end;width: 50%;}#sk-container-id-5 div.sk-parallel-item:last-child::after {align-self: flex-start;width: 50%;}#sk-container-id-5 div.sk-parallel-item:only-child::after {width: 0;}#sk-container-id-5 div.sk-dashed-wrapped {border: 1px dashed gray;margin: 0 0.4em 0.5em 0.4em;box-sizing: border-box;padding-bottom: 0.4em;background-color: white;}#sk-container-id-5 div.sk-label label {font-family: monospace;font-weight: bold;display: inline-block;line-height: 1.2em;}#sk-container-id-5 div.sk-label-container {text-align: center;}#sk-container-id-5 div.sk-container {/* jupyter's `normalize.less` sets `[hidden] { display: none; }` but bootstrap.min.css set `[hidden] { display: none !important; }` so we also need the `!important` here to be able to override the default hidden behavior on the sphinx rendered scikit-learn.org. See: https://github.com/scikit-learn/scikit-learn/issues/21755 */display: inline-block !important;position: relative;}#sk-container-id-5 div.sk-text-repr-fallback {display: none;}</style><div id=\"sk-container-id-5\" class=\"sk-top-container\"><div class=\"sk-text-repr-fallback\"><pre>LogisticRegression()</pre><b>In a Jupyter environment, please rerun this cell to show the HTML representation or trust the notebook. <br />On GitHub, the HTML representation is unable to render, please try loading this page with nbviewer.org.</b></div><div class=\"sk-container\" hidden><div class=\"sk-item\"><div class=\"sk-estimator sk-toggleable\"><input class=\"sk-toggleable__control sk-hidden--visually\" id=\"sk-estimator-id-5\" type=\"checkbox\" checked><label for=\"sk-estimator-id-5\" class=\"sk-toggleable__label sk-toggleable__label-arrow\">LogisticRegression</label><div class=\"sk-toggleable__content\"><pre>LogisticRegression()</pre></div></div></div></div></div>"
      ],
      "text/plain": [
       "LogisticRegression()"
      ]
     },
     "execution_count": 53,
     "metadata": {},
     "output_type": "execute_result"
    }
   ],
   "source": [
    "logistic_reg.fit(X_train, y_train)"
   ]
  },
  {
   "cell_type": "code",
   "execution_count": 54,
   "id": "a97a67df",
   "metadata": {
    "scrolled": true
   },
   "outputs": [
    {
     "name": "stderr",
     "output_type": "stream",
     "text": [
      "/Users/nicholastjandra/anaconda3/envs/learn-env/lib/python3.9/site-packages/sklearn/linear_model/_logistic.py:460: ConvergenceWarning: lbfgs failed to converge (status=1):\n",
      "STOP: TOTAL NO. of ITERATIONS REACHED LIMIT.\n",
      "\n",
      "Increase the number of iterations (max_iter) or scale the data as shown in:\n",
      "    https://scikit-learn.org/stable/modules/preprocessing.html\n",
      "Please also refer to the documentation for alternative solver options:\n",
      "    https://scikit-learn.org/stable/modules/linear_model.html#logistic-regression\n",
      "  n_iter_i = _check_optimize_result(\n",
      "/Users/nicholastjandra/anaconda3/envs/learn-env/lib/python3.9/site-packages/sklearn/linear_model/_logistic.py:460: ConvergenceWarning: lbfgs failed to converge (status=1):\n",
      "STOP: TOTAL NO. of ITERATIONS REACHED LIMIT.\n",
      "\n",
      "Increase the number of iterations (max_iter) or scale the data as shown in:\n",
      "    https://scikit-learn.org/stable/modules/preprocessing.html\n",
      "Please also refer to the documentation for alternative solver options:\n",
      "    https://scikit-learn.org/stable/modules/linear_model.html#logistic-regression\n",
      "  n_iter_i = _check_optimize_result(\n",
      "/Users/nicholastjandra/anaconda3/envs/learn-env/lib/python3.9/site-packages/sklearn/linear_model/_logistic.py:460: ConvergenceWarning: lbfgs failed to converge (status=1):\n",
      "STOP: TOTAL NO. of ITERATIONS REACHED LIMIT.\n",
      "\n",
      "Increase the number of iterations (max_iter) or scale the data as shown in:\n",
      "    https://scikit-learn.org/stable/modules/preprocessing.html\n",
      "Please also refer to the documentation for alternative solver options:\n",
      "    https://scikit-learn.org/stable/modules/linear_model.html#logistic-regression\n",
      "  n_iter_i = _check_optimize_result(\n",
      "/Users/nicholastjandra/anaconda3/envs/learn-env/lib/python3.9/site-packages/sklearn/linear_model/_logistic.py:460: ConvergenceWarning: lbfgs failed to converge (status=1):\n",
      "STOP: TOTAL NO. of ITERATIONS REACHED LIMIT.\n",
      "\n",
      "Increase the number of iterations (max_iter) or scale the data as shown in:\n",
      "    https://scikit-learn.org/stable/modules/preprocessing.html\n",
      "Please also refer to the documentation for alternative solver options:\n",
      "    https://scikit-learn.org/stable/modules/linear_model.html#logistic-regression\n",
      "  n_iter_i = _check_optimize_result(\n",
      "/Users/nicholastjandra/anaconda3/envs/learn-env/lib/python3.9/site-packages/sklearn/linear_model/_logistic.py:460: ConvergenceWarning: lbfgs failed to converge (status=1):\n",
      "STOP: TOTAL NO. of ITERATIONS REACHED LIMIT.\n",
      "\n",
      "Increase the number of iterations (max_iter) or scale the data as shown in:\n",
      "    https://scikit-learn.org/stable/modules/preprocessing.html\n",
      "Please also refer to the documentation for alternative solver options:\n",
      "    https://scikit-learn.org/stable/modules/linear_model.html#logistic-regression\n",
      "  n_iter_i = _check_optimize_result(\n"
     ]
    },
    {
     "data": {
      "text/plain": [
       "array([0.19758065, 0.19489247, 0.22043011, 0.20967742, 0.19354839])"
      ]
     },
     "execution_count": 54,
     "metadata": {},
     "output_type": "execute_result"
    }
   ],
   "source": [
    "cross_val_score(estimator=logistic_reg, X=X_train, y=y_train, cv=5)"
   ]
  },
  {
   "cell_type": "markdown",
   "id": "9bfc9f70",
   "metadata": {},
   "source": [
    "## Random Forest"
   ]
  },
  {
   "cell_type": "code",
   "execution_count": 61,
   "id": "30b1060b",
   "metadata": {},
   "outputs": [],
   "source": [
    "rfc = RandomForestClassifier(random_state=42, ,  n_estimators=200)"
   ]
  },
  {
   "cell_type": "code",
   "execution_count": 62,
   "id": "1ba33dd2",
   "metadata": {},
   "outputs": [
    {
     "data": {
      "text/html": [
       "<style>#sk-container-id-7 {color: black;}#sk-container-id-7 pre{padding: 0;}#sk-container-id-7 div.sk-toggleable {background-color: white;}#sk-container-id-7 label.sk-toggleable__label {cursor: pointer;display: block;width: 100%;margin-bottom: 0;padding: 0.3em;box-sizing: border-box;text-align: center;}#sk-container-id-7 label.sk-toggleable__label-arrow:before {content: \"▸\";float: left;margin-right: 0.25em;color: #696969;}#sk-container-id-7 label.sk-toggleable__label-arrow:hover:before {color: black;}#sk-container-id-7 div.sk-estimator:hover label.sk-toggleable__label-arrow:before {color: black;}#sk-container-id-7 div.sk-toggleable__content {max-height: 0;max-width: 0;overflow: hidden;text-align: left;background-color: #f0f8ff;}#sk-container-id-7 div.sk-toggleable__content pre {margin: 0.2em;color: black;border-radius: 0.25em;background-color: #f0f8ff;}#sk-container-id-7 input.sk-toggleable__control:checked~div.sk-toggleable__content {max-height: 200px;max-width: 100%;overflow: auto;}#sk-container-id-7 input.sk-toggleable__control:checked~label.sk-toggleable__label-arrow:before {content: \"▾\";}#sk-container-id-7 div.sk-estimator input.sk-toggleable__control:checked~label.sk-toggleable__label {background-color: #d4ebff;}#sk-container-id-7 div.sk-label input.sk-toggleable__control:checked~label.sk-toggleable__label {background-color: #d4ebff;}#sk-container-id-7 input.sk-hidden--visually {border: 0;clip: rect(1px 1px 1px 1px);clip: rect(1px, 1px, 1px, 1px);height: 1px;margin: -1px;overflow: hidden;padding: 0;position: absolute;width: 1px;}#sk-container-id-7 div.sk-estimator {font-family: monospace;background-color: #f0f8ff;border: 1px dotted black;border-radius: 0.25em;box-sizing: border-box;margin-bottom: 0.5em;}#sk-container-id-7 div.sk-estimator:hover {background-color: #d4ebff;}#sk-container-id-7 div.sk-parallel-item::after {content: \"\";width: 100%;border-bottom: 1px solid gray;flex-grow: 1;}#sk-container-id-7 div.sk-label:hover label.sk-toggleable__label {background-color: #d4ebff;}#sk-container-id-7 div.sk-serial::before {content: \"\";position: absolute;border-left: 1px solid gray;box-sizing: border-box;top: 0;bottom: 0;left: 50%;z-index: 0;}#sk-container-id-7 div.sk-serial {display: flex;flex-direction: column;align-items: center;background-color: white;padding-right: 0.2em;padding-left: 0.2em;position: relative;}#sk-container-id-7 div.sk-item {position: relative;z-index: 1;}#sk-container-id-7 div.sk-parallel {display: flex;align-items: stretch;justify-content: center;background-color: white;position: relative;}#sk-container-id-7 div.sk-item::before, #sk-container-id-7 div.sk-parallel-item::before {content: \"\";position: absolute;border-left: 1px solid gray;box-sizing: border-box;top: 0;bottom: 0;left: 50%;z-index: -1;}#sk-container-id-7 div.sk-parallel-item {display: flex;flex-direction: column;z-index: 1;position: relative;background-color: white;}#sk-container-id-7 div.sk-parallel-item:first-child::after {align-self: flex-end;width: 50%;}#sk-container-id-7 div.sk-parallel-item:last-child::after {align-self: flex-start;width: 50%;}#sk-container-id-7 div.sk-parallel-item:only-child::after {width: 0;}#sk-container-id-7 div.sk-dashed-wrapped {border: 1px dashed gray;margin: 0 0.4em 0.5em 0.4em;box-sizing: border-box;padding-bottom: 0.4em;background-color: white;}#sk-container-id-7 div.sk-label label {font-family: monospace;font-weight: bold;display: inline-block;line-height: 1.2em;}#sk-container-id-7 div.sk-label-container {text-align: center;}#sk-container-id-7 div.sk-container {/* jupyter's `normalize.less` sets `[hidden] { display: none; }` but bootstrap.min.css set `[hidden] { display: none !important; }` so we also need the `!important` here to be able to override the default hidden behavior on the sphinx rendered scikit-learn.org. See: https://github.com/scikit-learn/scikit-learn/issues/21755 */display: inline-block !important;position: relative;}#sk-container-id-7 div.sk-text-repr-fallback {display: none;}</style><div id=\"sk-container-id-7\" class=\"sk-top-container\"><div class=\"sk-text-repr-fallback\"><pre>RandomForestClassifier(max_depth=50, n_estimators=200, random_state=42)</pre><b>In a Jupyter environment, please rerun this cell to show the HTML representation or trust the notebook. <br />On GitHub, the HTML representation is unable to render, please try loading this page with nbviewer.org.</b></div><div class=\"sk-container\" hidden><div class=\"sk-item\"><div class=\"sk-estimator sk-toggleable\"><input class=\"sk-toggleable__control sk-hidden--visually\" id=\"sk-estimator-id-7\" type=\"checkbox\" checked><label for=\"sk-estimator-id-7\" class=\"sk-toggleable__label sk-toggleable__label-arrow\">RandomForestClassifier</label><div class=\"sk-toggleable__content\"><pre>RandomForestClassifier(max_depth=50, n_estimators=200, random_state=42)</pre></div></div></div></div></div>"
      ],
      "text/plain": [
       "RandomForestClassifier(max_depth=50, n_estimators=200, random_state=42)"
      ]
     },
     "execution_count": 62,
     "metadata": {},
     "output_type": "execute_result"
    }
   ],
   "source": [
    "rfc.fit(X_train, y_train)"
   ]
  },
  {
   "cell_type": "code",
   "execution_count": 63,
   "id": "929ddc09",
   "metadata": {},
   "outputs": [
    {
     "data": {
      "text/plain": [
       "array([0.56317204, 0.58467742, 0.58064516, 0.54032258, 0.54032258])"
      ]
     },
     "execution_count": 63,
     "metadata": {},
     "output_type": "execute_result"
    }
   ],
   "source": [
    "cross_val_score(estimator=rfc, X=X_train, y=y_train, cv=5, n_jobs=-1)"
   ]
  },
  {
   "cell_type": "code",
   "execution_count": 64,
   "id": "bc12f116",
   "metadata": {},
   "outputs": [
    {
     "data": {
      "text/plain": [
       "array([0.00959669, 0.01989112, 0.02128878, 0.02330385, 0.00825932,\n",
       "       0.01153314, 0.01976932, 0.01265292, 0.00412644, 0.03185267,\n",
       "       0.01506281, 0.03197604, 0.0574083 , 0.0184487 , 0.01288491,\n",
       "       0.00324134, 0.01799247, 0.02128054, 0.02004253, 0.01430132,\n",
       "       0.01260718, 0.0218097 , 0.01246105, 0.02211789, 0.01629075,\n",
       "       0.02102758, 0.02416235, 0.02198794, 0.01358365, 0.01883374,\n",
       "       0.01989204, 0.01738839, 0.01525009, 0.0134415 , 0.02056127,\n",
       "       0.01439274, 0.0177777 , 0.0128161 , 0.03006703, 0.01373067,\n",
       "       0.01155322, 0.01939584, 0.01391136, 0.01718822, 0.01513928,\n",
       "       0.01507929, 0.0122447 , 0.01701439, 0.02090307, 0.01370406,\n",
       "       0.02187297, 0.01328524, 0.01295381, 0.00724027, 0.0124034 ,\n",
       "       0.02592615, 0.01507214])"
      ]
     },
     "execution_count": 64,
     "metadata": {},
     "output_type": "execute_result"
    }
   ],
   "source": [
    "rfc.feature_importances_"
   ]
  },
  {
   "cell_type": "code",
   "execution_count": 65,
   "id": "fff2aa80",
   "metadata": {
    "scrolled": true
   },
   "outputs": [
    {
     "data": {
      "text/plain": [
       "<bound method ForestClassifier.predict of RandomForestClassifier(max_depth=50, n_estimators=200, random_state=42)>"
      ]
     },
     "execution_count": 65,
     "metadata": {},
     "output_type": "execute_result"
    }
   ],
   "source": [
    "rfc.predict"
   ]
  },
  {
   "cell_type": "code",
   "execution_count": 60,
   "id": "96ce7644",
   "metadata": {},
   "outputs": [
    {
     "data": {
      "text/html": [
       "<div>\n",
       "<style scoped>\n",
       "    .dataframe tbody tr th:only-of-type {\n",
       "        vertical-align: middle;\n",
       "    }\n",
       "\n",
       "    .dataframe tbody tr th {\n",
       "        vertical-align: top;\n",
       "    }\n",
       "\n",
       "    .dataframe thead th {\n",
       "        text-align: right;\n",
       "    }\n",
       "</style>\n",
       "<table border=\"1\" class=\"dataframe\">\n",
       "  <thead>\n",
       "    <tr style=\"text-align: right;\">\n",
       "      <th></th>\n",
       "      <th>song_id</th>\n",
       "      <th>target</th>\n",
       "    </tr>\n",
       "  </thead>\n",
       "  <tbody>\n",
       "    <tr>\n",
       "      <th>0</th>\n",
       "      <td>7c61FpilqRU/3Ley</td>\n",
       "      <td>Country</td>\n",
       "    </tr>\n",
       "    <tr>\n",
       "      <th>1</th>\n",
       "      <td>EmqUjbC3coby/LZy</td>\n",
       "      <td>Disco</td>\n",
       "    </tr>\n",
       "    <tr>\n",
       "      <th>2</th>\n",
       "      <td>lvF5H8aYwo+TlFJe</td>\n",
       "      <td>Lofi</td>\n",
       "    </tr>\n",
       "    <tr>\n",
       "      <th>3</th>\n",
       "      <td>O+oGRFmYSUbebxCK</td>\n",
       "      <td>Indie</td>\n",
       "    </tr>\n",
       "    <tr>\n",
       "      <th>4</th>\n",
       "      <td>rUR7HzUw1p41lUUn</td>\n",
       "      <td>HipHop</td>\n",
       "    </tr>\n",
       "    <tr>\n",
       "      <th>...</th>\n",
       "      <td>...</td>\n",
       "      <td>...</td>\n",
       "    </tr>\n",
       "    <tr>\n",
       "      <th>3303</th>\n",
       "      <td>ObfXKLfo3N9IuZGw</td>\n",
       "      <td>Funk</td>\n",
       "    </tr>\n",
       "    <tr>\n",
       "      <th>3304</th>\n",
       "      <td>qCxgC5trW/Xl/wC8</td>\n",
       "      <td>Indie</td>\n",
       "    </tr>\n",
       "    <tr>\n",
       "      <th>3305</th>\n",
       "      <td>z8dKvyoqkEVA1aKZ</td>\n",
       "      <td>Pop</td>\n",
       "    </tr>\n",
       "    <tr>\n",
       "      <th>3306</th>\n",
       "      <td>s2RNjtkc0Rzt5smL</td>\n",
       "      <td>EDM</td>\n",
       "    </tr>\n",
       "    <tr>\n",
       "      <th>3307</th>\n",
       "      <td>QRLWYc0bYc99iymy</td>\n",
       "      <td>Rock</td>\n",
       "    </tr>\n",
       "  </tbody>\n",
       "</table>\n",
       "<p>3308 rows × 2 columns</p>\n",
       "</div>"
      ],
      "text/plain": [
       "               song_id   target\n",
       "0     7c61FpilqRU/3Ley  Country\n",
       "1     EmqUjbC3coby/LZy    Disco\n",
       "2     lvF5H8aYwo+TlFJe     Lofi\n",
       "3     O+oGRFmYSUbebxCK    Indie\n",
       "4     rUR7HzUw1p41lUUn   HipHop\n",
       "...                ...      ...\n",
       "3303  ObfXKLfo3N9IuZGw     Funk\n",
       "3304  qCxgC5trW/Xl/wC8    Indie\n",
       "3305  z8dKvyoqkEVA1aKZ      Pop\n",
       "3306  s2RNjtkc0Rzt5smL      EDM\n",
       "3307  QRLWYc0bYc99iymy     Rock\n",
       "\n",
       "[3308 rows x 2 columns]"
      ]
     },
     "execution_count": 60,
     "metadata": {},
     "output_type": "execute_result"
    }
   ],
   "source": [
    "ss"
   ]
  },
  {
   "cell_type": "markdown",
   "id": "6d9637b8",
   "metadata": {
    "papermill": {
     "duration": 0.006674,
     "end_time": "2023-11-01T22:16:39.154268",
     "exception": false,
     "start_time": "2023-11-01T22:16:39.147594",
     "status": "completed"
    },
    "tags": []
   },
   "source": [
    "# Making the submission file"
   ]
  },
  {
   "cell_type": "code",
   "execution_count": 46,
   "id": "8983e57d",
   "metadata": {
    "execution": {
     "iopub.execute_input": "2023-11-01T22:16:39.169603Z",
     "iopub.status.busy": "2023-11-01T22:16:39.168902Z",
     "iopub.status.idle": "2023-11-01T22:16:39.187648Z",
     "shell.execute_reply": "2023-11-01T22:16:39.186853Z"
    },
    "papermill": {
     "duration": 0.031242,
     "end_time": "2023-11-01T22:16:39.192112",
     "exception": false,
     "start_time": "2023-11-01T22:16:39.160870",
     "status": "completed"
    },
    "tags": []
   },
   "outputs": [
    {
     "data": {
      "text/html": [
       "<div>\n",
       "<style scoped>\n",
       "    .dataframe tbody tr th:only-of-type {\n",
       "        vertical-align: middle;\n",
       "    }\n",
       "\n",
       "    .dataframe tbody tr th {\n",
       "        vertical-align: top;\n",
       "    }\n",
       "\n",
       "    .dataframe thead th {\n",
       "        text-align: right;\n",
       "    }\n",
       "</style>\n",
       "<table border=\"1\" class=\"dataframe\">\n",
       "  <thead>\n",
       "    <tr style=\"text-align: right;\">\n",
       "      <th></th>\n",
       "      <th>song_id</th>\n",
       "      <th>target</th>\n",
       "    </tr>\n",
       "  </thead>\n",
       "  <tbody>\n",
       "    <tr>\n",
       "      <th>0</th>\n",
       "      <td>7c61FpilqRU/3Ley</td>\n",
       "      <td>Country</td>\n",
       "    </tr>\n",
       "    <tr>\n",
       "      <th>1</th>\n",
       "      <td>EmqUjbC3coby/LZy</td>\n",
       "      <td>Disco</td>\n",
       "    </tr>\n",
       "    <tr>\n",
       "      <th>2</th>\n",
       "      <td>lvF5H8aYwo+TlFJe</td>\n",
       "      <td>Lofi</td>\n",
       "    </tr>\n",
       "    <tr>\n",
       "      <th>3</th>\n",
       "      <td>O+oGRFmYSUbebxCK</td>\n",
       "      <td>Indie</td>\n",
       "    </tr>\n",
       "    <tr>\n",
       "      <th>4</th>\n",
       "      <td>rUR7HzUw1p41lUUn</td>\n",
       "      <td>HipHop</td>\n",
       "    </tr>\n",
       "    <tr>\n",
       "      <th>...</th>\n",
       "      <td>...</td>\n",
       "      <td>...</td>\n",
       "    </tr>\n",
       "    <tr>\n",
       "      <th>3303</th>\n",
       "      <td>ObfXKLfo3N9IuZGw</td>\n",
       "      <td>Funk</td>\n",
       "    </tr>\n",
       "    <tr>\n",
       "      <th>3304</th>\n",
       "      <td>qCxgC5trW/Xl/wC8</td>\n",
       "      <td>Indie</td>\n",
       "    </tr>\n",
       "    <tr>\n",
       "      <th>3305</th>\n",
       "      <td>z8dKvyoqkEVA1aKZ</td>\n",
       "      <td>Pop</td>\n",
       "    </tr>\n",
       "    <tr>\n",
       "      <th>3306</th>\n",
       "      <td>s2RNjtkc0Rzt5smL</td>\n",
       "      <td>EDM</td>\n",
       "    </tr>\n",
       "    <tr>\n",
       "      <th>3307</th>\n",
       "      <td>QRLWYc0bYc99iymy</td>\n",
       "      <td>Rock</td>\n",
       "    </tr>\n",
       "  </tbody>\n",
       "</table>\n",
       "<p>3308 rows × 2 columns</p>\n",
       "</div>"
      ],
      "text/plain": [
       "               song_id   target\n",
       "0     7c61FpilqRU/3Ley  Country\n",
       "1     EmqUjbC3coby/LZy    Disco\n",
       "2     lvF5H8aYwo+TlFJe     Lofi\n",
       "3     O+oGRFmYSUbebxCK    Indie\n",
       "4     rUR7HzUw1p41lUUn   HipHop\n",
       "...                ...      ...\n",
       "3303  ObfXKLfo3N9IuZGw     Funk\n",
       "3304  qCxgC5trW/Xl/wC8    Indie\n",
       "3305  z8dKvyoqkEVA1aKZ      Pop\n",
       "3306  s2RNjtkc0Rzt5smL      EDM\n",
       "3307  QRLWYc0bYc99iymy     Rock\n",
       "\n",
       "[3308 rows x 2 columns]"
      ]
     },
     "execution_count": 46,
     "metadata": {},
     "output_type": "execute_result"
    }
   ],
   "source": [
    "results = rfc.predict(result_test_df)\n",
    "ss['target'] = label_encoder.inverse_transform(results)\n",
    "ss"
   ]
  },
  {
   "cell_type": "markdown",
   "id": "2214783d",
   "metadata": {
    "papermill": {
     "duration": 0.006717,
     "end_time": "2023-11-01T22:16:39.206214",
     "exception": false,
     "start_time": "2023-11-01T22:16:39.199497",
     "status": "completed"
    },
    "tags": []
   },
   "source": [
    "# Saving the file"
   ]
  },
  {
   "cell_type": "code",
   "execution_count": 35,
   "id": "e2c06025",
   "metadata": {
    "execution": {
     "iopub.execute_input": "2023-11-01T22:16:39.222300Z",
     "iopub.status.busy": "2023-11-01T22:16:39.221345Z",
     "iopub.status.idle": "2023-11-01T22:16:39.234818Z",
     "shell.execute_reply": "2023-11-01T22:16:39.233984Z"
    },
    "papermill": {
     "duration": 0.023851,
     "end_time": "2023-11-01T22:16:39.237048",
     "exception": false,
     "start_time": "2023-11-01T22:16:39.213197",
     "status": "completed"
    },
    "tags": []
   },
   "outputs": [],
   "source": [
    "# Make sure to have index = False to prevent the additional index column slowly sweep in your output file and give you error while submitting it.\n",
    "ss.to_csv(\"submission.csv\", index=False)"
   ]
  },
  {
   "cell_type": "code",
   "execution_count": null,
   "id": "1c5c120c",
   "metadata": {},
   "outputs": [],
   "source": []
  }
 ],
 "metadata": {
  "kernelspec": {
   "display_name": "Python 3 (ipykernel)",
   "language": "python",
   "name": "python3"
  },
  "language_info": {
   "codemirror_mode": {
    "name": "ipython",
    "version": 3
   },
   "file_extension": ".py",
   "mimetype": "text/x-python",
   "name": "python",
   "nbconvert_exporter": "python",
   "pygments_lexer": "ipython3",
   "version": "3.9.16"
  },
  "papermill": {
   "default_parameters": {},
   "duration": 9.406689,
   "end_time": "2023-11-01T22:16:39.895438",
   "environment_variables": {},
   "exception": null,
   "input_path": "__notebook__.ipynb",
   "output_path": "__notebook__.ipynb",
   "parameters": {},
   "start_time": "2023-11-01T22:16:30.488749",
   "version": "2.4.0"
  }
 },
 "nbformat": 4,
 "nbformat_minor": 5
}
